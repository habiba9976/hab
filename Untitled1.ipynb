{
 "cells": [
  {
   "cell_type": "code",
   "execution_count": null,
   "id": "41f52d00-d759-4492-bc50-bee42171ba1e",
   "metadata": {},
   "outputs": [
    {
     "name": "stdin",
     "output_type": "stream",
     "text": [
      " 7 5 6\n",
      " 9\n"
     ]
    },
    {
     "name": "stdout",
     "output_type": "stream",
     "text": [
      "7:is even\n"
     ]
    }
   ],
   "source": [
    "x= input().split()\n",
    "c=list(map(int,x))\n",
    "z=int(input())\n",
    "y=0\n",
    "for i in x:\n",
    "    print(f\"{i}:is even\")\n",
    "    y+=i\n",
    "if y > z:\n",
    "    print(\"y>z\")\n",
    "elif y < z:\n",
    "    print(\"y<z\")\n",
    "else:\n",
    "    print(\"y=z\")\n",
    "print(f\"sum is {y}\")"
   ]
  },
  {
   "cell_type": "code",
   "execution_count": null,
   "id": "a04a886b-ed4e-415a-9b85-393880e8099e",
   "metadata": {},
   "outputs": [],
   "source": []
  },
  {
   "cell_type": "code",
   "execution_count": null,
   "id": "e905fb0a-d6f3-4aa5-a139-f622aadf93b8",
   "metadata": {},
   "outputs": [],
   "source": []
  },
  {
   "cell_type": "code",
   "execution_count": null,
   "id": "1627382e-85c9-406c-90d4-0c6194e2b298",
   "metadata": {},
   "outputs": [],
   "source": []
  },
  {
   "cell_type": "code",
   "execution_count": null,
   "id": "32095d80-dcfb-4cea-a5c7-e1a83f0794b2",
   "metadata": {},
   "outputs": [],
   "source": []
  }
 ],
 "metadata": {
  "kernelspec": {
   "display_name": "Python 3 (ipykernel)",
   "language": "python",
   "name": "python3"
  },
  "language_info": {
   "codemirror_mode": {
    "name": "ipython",
    "version": 3
   },
   "file_extension": ".py",
   "mimetype": "text/x-python",
   "name": "python",
   "nbconvert_exporter": "python",
   "pygments_lexer": "ipython3",
   "version": "3.12.7"
  }
 },
 "nbformat": 4,
 "nbformat_minor": 5
}
